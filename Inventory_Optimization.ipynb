{
  "nbformat": 4,
  "nbformat_minor": 0,
  "metadata": {
    "colab": {
      "provenance": [],
      "authorship_tag": "ABX9TyPayRzJ/3Ev28mjOXYs0uUx",
      "include_colab_link": true
    },
    "kernelspec": {
      "name": "python3",
      "display_name": "Python 3"
    },
    "language_info": {
      "name": "python"
    }
  },
  "cells": [
    {
      "cell_type": "markdown",
      "metadata": {
        "id": "view-in-github",
        "colab_type": "text"
      },
      "source": [
        "<a href=\"https://colab.research.google.com/github/JayR3d/Inventory-Optimization-Template-Periodic-replenishment-policy-Simulation-/blob/main/Inventory_Optimization.ipynb\" target=\"_parent\"><img src=\"https://colab.research.google.com/assets/colab-badge.svg\" alt=\"Open In Colab\"/></a>"
      ]
    },
    {
      "cell_type": "markdown",
      "source": [
        "#Inventory Optimization Template ( Periodic replenishment policy & Simulation )\n",
        "\n",
        "\n"
      ],
      "metadata": {
        "id": "2voGrvhadDNz"
      }
    },
    {
      "cell_type": "markdown",
      "source": [
        "Products are ordered periodically, based on a fixed schedule and an up-to level.\n",
        "\n",
        "At the beginning of any review period, we need to order enough products to bring our net inventory up to level S.\n",
        "\n",
        "The order quantity depends on how much stock we have when we make the order and is therefore variable. On the other hand, the orders are made following a fixed schedule: the elapsed time between two consecutive orders will always be the same.\n",
        "\n",
        "R being the fixed review period and S the up-to level."
      ],
      "metadata": {
        "id": "lk2QHMmMV_j3"
      }
    },
    {
      "cell_type": "code",
      "source": [
        "import numpy as np\n",
        "import pandas as pd\n",
        "from scipy.stats import norm"
      ],
      "metadata": {
        "id": "ihWN0usWSn0k"
      },
      "execution_count": null,
      "outputs": []
    },
    {
      "cell_type": "markdown",
      "source": [
        "Defining the duration of our simulation."
      ],
      "metadata": {
        "id": "5DPHMxUOrDeg"
      }
    },
    {
      "cell_type": "code",
      "source": [
        "# time refers to sample size\n",
        "time = 200\n",
        "# d_mu refers to demand average\n",
        "d_mu = 100\n",
        "# d_std refers to demand standard deviation\n",
        "d_std = 25\n",
        "\n",
        "#Demand duration for the simulation\n",
        "d = np.maximum(np.random.normal(d_mu, d_std, time).round(0).astype(int),0)"
      ],
      "metadata": {
        "id": "CG9rZP9WbZzz"
      },
      "execution_count": null,
      "outputs": []
    },
    {
      "cell_type": "markdown",
      "source": [
        "Define Fixed review, Lead time, service level target and demand deviation over the risk-horizon."
      ],
      "metadata": {
        "id": "F0BxZGILqiN2"
      }
    },
    {
      "cell_type": "code",
      "source": [
        "# R = Fixed review period\n",
        "# L = Lead time (periods)\n",
        "# alpha = service level target\n",
        "L, R, alpha = 4, 1, 0.95\n",
        "\n",
        "# z = service level target\n",
        "z = norm.ppf(alpha)\n",
        "\n",
        "# The demand deviation over the risk-horizon (Maximum period of time that you need to wait to receive an order)\n",
        "x_std = np.sqrt(L+R)*d_std"
      ],
      "metadata": {
        "id": "BcxsCYqPIIX9"
      },
      "execution_count": null,
      "outputs": []
    },
    {
      "cell_type": "markdown",
      "source": [
        "#Inventory levels"
      ],
      "metadata": {
        "id": "gD5LvuzZPkZL"
      }
    },
    {
      "cell_type": "code",
      "source": [
        "# Ss = Stock protecting the supply chain against demand variability (or forecast error) and supply lack of reliability.\n",
        "Ss = np.round(x_std*z).astype(int)\n",
        "\n",
        "# Cs = Stock needed to fulfill the expected demand (or forecast) over a replenishment cycle.\n",
        "Cs = 1/2 * d_mu * R\n",
        "\n",
        "# Is = Inventory in transit in between different locations.\n",
        "Is = d_mu * L\n",
        "\n",
        "# S = At the beginning of any review period, we need to order enough products to bring our net inventory up to level S\n",
        "S = Ss + 2*Cs + Is"
      ],
      "metadata": {
        "id": "UoaY1d8TO2ZT"
      },
      "execution_count": null,
      "outputs": []
    },
    {
      "cell_type": "code",
      "source": [
        "# On-Hand\n",
        "hand = np.zeros(time, dtype=int)\n",
        "# Define transit as a 2-dimensional array.\n",
        "transit = np.zeros((time,L+1), dtype=int)"
      ],
      "metadata": {
        "id": "NKFoXMECPzwV"
      },
      "execution_count": null,
      "outputs": []
    },
    {
      "cell_type": "markdown",
      "source": [
        "Service Levels"
      ],
      "metadata": {
        "id": "qHca7yJZQPn7"
      }
    },
    {
      "cell_type": "code",
      "source": [
        "# Stock_out_period = Contain a Boolean that flags if there is a shortage during a period.\n",
        "stock_out_period = np.full(time, False, dtype=bool)\n",
        "# Stock-out_cycle = Contain a Boolean for each order cycle (i.e., review period) that flags if we had a shortage at any time during the last cycle.\n",
        "stock_out_cycle = []"
      ],
      "metadata": {
        "id": "x4Ux6eCoQRPY"
      },
      "execution_count": null,
      "outputs": []
    },
    {
      "cell_type": "markdown",
      "source": [
        "Simulation Initialization"
      ],
      "metadata": {
        "id": "TnJKdCqDQXfR"
      }
    },
    {
      "cell_type": "code",
      "source": [
        "# The initial on-hand and net inventories during the first period\n",
        "hand[0] = S - d[0]\n",
        "# in-transit stock is initialized for the second period as the demand in the first period.\n",
        "transit[1,-1] = d[0]"
      ],
      "metadata": {
        "id": "Sjmw73DdQqRl"
      },
      "execution_count": null,
      "outputs": []
    },
    {
      "cell_type": "markdown",
      "source": [
        "#Simulate an Inventory Policy"
      ],
      "metadata": {
        "id": "xOtExD4iQ8H3"
      }
    },
    {
      "cell_type": "code",
      "source": [
        "for t in range(1,time):\n",
        "  if transit[t-1,0]>0:\n",
        "    stock_out_cycle.append(stock_out_period[t-1])\n",
        "  hand[t] = hand[t-1] - d[t] + transit[t-1,0]\n",
        "  stock_out_period[t] = hand[t] < 0\n",
        "  transit[t,:-1] = transit[t-1,1:]\n",
        "  if 0==t%R:\n",
        "    net = hand[t] + transit[t].sum()\n",
        "    transit[t,L] = S - net"
      ],
      "metadata": {
        "id": "mnFh5SojQxgO"
      },
      "execution_count": null,
      "outputs": []
    },
    {
      "cell_type": "markdown",
      "source": [
        "Reporting"
      ],
      "metadata": {
        "id": "tWdkRaODQ9V9"
      }
    },
    {
      "cell_type": "code",
      "source": [
        "df = pd.DataFrame(data= {'Demand':d, 'On−hand':hand, 'In−transit':list(transit)})\n",
        "df = df.iloc[R+L:,:] #Remove initialization periods\n",
        "print(df)\n",
        "df['On−hand'].plot(title='Inventory Policy (%d,%d)' %(R,S), ylim=(0,S), legend=True)"
      ],
      "metadata": {
        "colab": {
          "base_uri": "https://localhost:8080/",
          "height": 557
        },
        "id": "ay1mobJrRCbp",
        "outputId": "c829195a-99f5-4194-8f29-3a66727502e7"
      },
      "execution_count": null,
      "outputs": [
        {
          "output_type": "stream",
          "name": "stdout",
          "text": [
            "     Demand  On−hand               In−transit\n",
            "5       126      -19  [85, 225, 101, 74, 126]\n",
            "6        71       -5  [225, 101, 74, 126, 71]\n",
            "7       105      115  [101, 74, 126, 71, 105]\n",
            "8        83      133   [74, 126, 71, 105, 83]\n",
            "9        95      112   [126, 71, 105, 83, 95]\n",
            "..      ...      ...                      ...\n",
            "195     119       27  [86, 127, 79, 154, 119]\n",
            "196      74       39  [127, 79, 154, 119, 74]\n",
            "197      95       71   [79, 154, 119, 74, 95]\n",
            "198     126       24  [154, 119, 74, 95, 126]\n",
            "199     123       55  [119, 74, 95, 126, 123]\n",
            "\n",
            "[195 rows x 3 columns]\n"
          ]
        },
        {
          "output_type": "execute_result",
          "data": {
            "text/plain": [
              "<matplotlib.axes._subplots.AxesSubplot at 0x7f1222bf8190>"
            ]
          },
          "metadata": {},
          "execution_count": 14
        },
        {
          "output_type": "display_data",
          "data": {
            "text/plain": [
              "<Figure size 432x288 with 1 Axes>"
            ],
            "image/png": "[encoded data removed]"
          },
          "metadata": {
            "needs_background": "light"
          }
        }
      ]
    },
    {
      "cell_type": "markdown",
      "source": [
        "Print cycle and period service levels"
      ],
      "metadata": {
        "id": "8DUNdS9hRKVE"
      }
    },
    {
      "cell_type": "code",
      "source": [
        "print('Alpha:',alpha*100)\n",
        "SL_alpha = 1-sum(stock_out_cycle)/len(stock_out_cycle)\n",
        "print('Cycle Service Level:', round(SL_alpha*100,1))\n",
        "SL_period = 1-sum(stock_out_period)/time\n",
        "print('Period Service Level:', round(SL_period*100,1))"
      ],
      "metadata": {
        "colab": {
          "base_uri": "https://localhost:8080/"
        },
        "id": "3JqNUms6RMEm",
        "outputId": "6099743c-a5d4-4ffa-d16e-582fb58c4a9c"
      },
      "execution_count": null,
      "outputs": [
        {
          "output_type": "stream",
          "name": "stdout",
          "text": [
            "Alpha: 95.0\n",
            "Cycle Service Level: 93.3\n",
            "Period Service Level: 93.5\n"
          ]
        }
      ]
    }
  ]
}